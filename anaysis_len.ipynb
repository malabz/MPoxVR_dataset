{
 "cells": [
  {
   "cell_type": "markdown",
   "metadata": {},
   "source": [
    "# Count the length of incomplete sequences and anaysis\n",
    "## Generate it"
   ]
  },
  {
   "cell_type": "code",
   "execution_count": 1,
   "metadata": {},
   "outputs": [],
   "source": [
    "data = []\n",
    "with open(\"MPoxBR(incomplete).fasta\", \"r\") as f:\n",
    "    this_len = 0\n",
    "    for line in f:\n",
    "        if line[0] == '>':\n",
    "            if this_len > 0: data.append(this_len)\n",
    "            this_len = 0\n",
    "            continue\n",
    "        else:\n",
    "            this_len += len(line.strip())\n",
    "    if this_len > 0: data.append(this_len)\n",
    "with open(\"seq_incomplete_len.txt\", \"w\") as g:\n",
    "    for i in sorted(data):\n",
    "        print(i, file = g)"
   ]
  },
  {
   "cell_type": "markdown",
   "metadata": {},
   "source": [
    "## Read it"
   ]
  },
  {
   "cell_type": "code",
   "execution_count": 2,
   "metadata": {},
   "outputs": [],
   "source": [
    "with open(\"seq_incomplete_len.txt\", \"r\") as f:\n",
    "    data = [int(x) for x in f]\n"
   ]
  },
  {
   "cell_type": "markdown",
   "metadata": {},
   "source": [
    "## Draw it"
   ]
  },
  {
   "cell_type": "code",
   "execution_count": 3,
   "metadata": {},
   "outputs": [
    {
     "data": {
      "image/png": "[encoded data removed]",
      "text/plain": [
       "<Figure size 640x480 with 1 Axes>"
      ]
     },
     "metadata": {},
     "output_type": "display_data"
    },
    {
     "data": {
      "text/plain": [
       "<Figure size 2000x2500 with 0 Axes>"
      ]
     },
     "metadata": {},
     "output_type": "display_data"
    }
   ],
   "source": [
    "import matplotlib.pyplot as plt\n",
    "\n",
    "x = [0, 0, 0, 0]\n",
    "y = [1, 2, 3, 4]\n",
    "for item in data:\n",
    "    if item < 2500:\n",
    "        x[0] += 1\n",
    "    elif item < 50000:\n",
    "        x[1] += 1\n",
    "    elif item < 150000:\n",
    "        x[2] += 1\n",
    "    else:\n",
    "        x[3] += 1\n",
    "\n",
    "plt.bar(y, x)\n",
    "plt.yscale('log')\n",
    "plt.title('linear')\n",
    "plt.grid(True)\n",
    "for a, b in zip(y, x):\n",
    "    plt.text(a, b, b, ha='center', va='bottom', fontsize=20)\n",
    "\n",
    "plt.figure(figsize=(20, 25))\n",
    "\n",
    "plt.show()"
   ]
  }
 ],
 "metadata": {
  "kernelspec": {
   "display_name": "Python 3",
   "language": "python",
   "name": "python3"
  },
  "language_info": {
   "codemirror_mode": {
    "name": "ipython",
    "version": 3
   },
   "file_extension": ".py",
   "mimetype": "text/x-python",
   "name": "python",
   "nbconvert_exporter": "python",
   "pygments_lexer": "ipython3",
   "version": "3.11.3"
  },
  "orig_nbformat": 4
 },
 "nbformat": 4,
 "nbformat_minor": 2
}
