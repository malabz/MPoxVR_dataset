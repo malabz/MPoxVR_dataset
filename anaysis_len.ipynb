{
 "cells": [
  {
   "cell_type": "code",
   "execution_count": null,
   "metadata": {},
   "outputs": [],
   "source": [
    "with open(\"seq_incomplete_len.txt\", \"r\") as f:\n",
    "    data = [int(x) for x in f]\n"
   ]
  },
  {
   "cell_type": "code",
   "execution_count": 14,
   "metadata": {},
   "outputs": [
    {
     "data": {
      "image/png": "[encoded data removed]",
      "text/plain": [
       "<Figure size 432x288 with 1 Axes>"
      ]
     },
     "metadata": {
      "needs_background": "light"
     },
     "output_type": "display_data"
    },
    {
     "data": {
      "text/plain": [
       "<Figure size 1440x1800 with 0 Axes>"
      ]
     },
     "metadata": {},
     "output_type": "display_data"
    }
   ],
   "source": [
    "import matplotlib.pyplot as plt\n",
    "\n",
    "# 构造数据，要求数据都在0-1之间，否则不能设置logit缩放类型\n",
    "x = [0, 0, 0, 0]\n",
    "y = [1, 2, 3, 4]\n",
    "for item in data:\n",
    "    if item < 2500:\n",
    "        x[0] += 1\n",
    "    elif item < 50000:\n",
    "        x[1] += 1\n",
    "    elif item < 150000:\n",
    "        x[2] += 1\n",
    "    else:\n",
    "        x[3] += 1\n",
    "\n",
    "# linear，默认缩放类型\n",
    "plt.bar(y, x)\n",
    "plt.yscale('log')\n",
    "plt.title('linear')\n",
    "plt.grid(True)\n",
    "for a, b in zip(y, x):\n",
    "    plt.text(a, b, b, ha='center', va='bottom', fontsize=20)\n",
    "\n",
    "plt.figure(figsize=(20, 25))\n",
    "\n",
    "plt.show()"
   ]
  }
 ],
 "metadata": {
  "kernelspec": {
   "display_name": "Python 3",
   "language": "python",
   "name": "python3"
  },
  "language_info": {
   "codemirror_mode": {
    "name": "ipython",
    "version": 3
   },
   "file_extension": ".py",
   "mimetype": "text/x-python",
   "name": "python",
   "nbconvert_exporter": "python",
   "pygments_lexer": "ipython3",
   "version": "3.8.10"
  },
  "orig_nbformat": 4
 },
 "nbformat": 4,
 "nbformat_minor": 2
}
